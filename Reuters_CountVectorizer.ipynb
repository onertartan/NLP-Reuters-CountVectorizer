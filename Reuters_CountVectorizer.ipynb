{
  "nbformat": 4,
  "nbformat_minor": 0,
  "metadata": {
    "colab": {
      "provenance": [],
      "mount_file_id": "192dNW-uzVaB9zayRInVo3Q1kBgDV9dIu",
      "authorship_tag": "ABX9TyMqCDwI7P+PUAzGQ3T93ya9",
      "include_colab_link": true
    },
    "kernelspec": {
      "name": "python3",
      "display_name": "Python 3"
    },
    "language_info": {
      "name": "python"
    },
    "gpuClass": "standard"
  },
  "cells": [
    {
      "cell_type": "markdown",
      "metadata": {
        "id": "view-in-github",
        "colab_type": "text"
      },
      "source": [
        "<a href=\"https://colab.research.google.com/github/onertartan/NLP-Reuters-CountVectorizer/blob/main/Reuters_CountVectorizer.ipynb\" target=\"_parent\"><img src=\"https://colab.research.google.com/assets/colab-badge.svg\" alt=\"Open In Colab\"/></a>"
      ]
    },
    {
      "cell_type": "markdown",
      "source": [
        "\n",
        "### Reuters-21578 benchmark corpus <br>\n",
        "Abstract: This is a collection of documents that appeared on Reuters newswire in 1987. The documents were assembled and indexed with categories.\n",
        "https://www.kaggle.com/datasets/nltkdata/reuters\n"
      ],
      "metadata": {
        "id": "yCU9NWCUDAPV"
      }
    },
    {
      "cell_type": "markdown",
      "source": [
        "### 1.GET and EXPLORE DATA"
      ],
      "metadata": {
        "id": "M5HIaQ7kQdeL"
      }
    },
    {
      "cell_type": "code",
      "execution_count": 1,
      "metadata": {
        "colab": {
          "base_uri": "https://localhost:8080/"
        },
        "id": "w7k_c2Q2O4v8",
        "outputId": "6334e278-1928-4989-f42e-eeaccc4f48a9"
      },
      "outputs": [
        {
          "output_type": "execute_result",
          "data": {
            "text/plain": [
              "['README', 'cats.txt', 'stopwords', 'test', 'training']"
            ]
          },
          "metadata": {},
          "execution_count": 1
        }
      ],
      "source": [
        "# Check data directory\n",
        "import os\n",
        "reuters_folder = \"drive/MyDrive/Data/reuters\"\n",
        "os.listdir(reuters_folder)"
      ]
    },
    {
      "cell_type": "code",
      "source": [
        "#  Number of files in training and test folders\n",
        "training_folder = os.listdir(os.path.join(reuters_folder,\"training\"))\n",
        "test_folder =os.listdir(os.path.join(reuters_folder,\"test\"))\n",
        "print(\"Number of files in training folder:\",len(training_folder) )\n",
        "print(\"Number of files in test folder:\",len(test_folder) )"
      ],
      "metadata": {
        "colab": {
          "base_uri": "https://localhost:8080/"
        },
        "id": "sW_8iWVrPkoj",
        "outputId": "389810b0-127b-4f85-c249-a13144d12164"
      },
      "execution_count": 2,
      "outputs": [
        {
          "output_type": "stream",
          "name": "stdout",
          "text": [
            "Number of files in training folder: 7769\n",
            "Number of files in test folder: 3019\n"
          ]
        }
      ]
    },
    {
      "cell_type": "code",
      "source": [
        "# Contents of training folder\n",
        "os.listdir(os.path.join(reuters_folder,\"training\"))[:5]"
      ],
      "metadata": {
        "colab": {
          "base_uri": "https://localhost:8080/"
        },
        "id": "2hgbYRKQPame",
        "outputId": "2b813a2d-c512-4f9d-91a0-d1c9faec6a21"
      },
      "execution_count": 3,
      "outputs": [
        {
          "output_type": "execute_result",
          "data": {
            "text/plain": [
              "['8213', '7901', '722', '9515', '8986']"
            ]
          },
          "metadata": {},
          "execution_count": 3
        }
      ]
    },
    {
      "cell_type": "code",
      "source": [
        "# Contents of cats.txt file. \n",
        "# Rows have the format   label_type/file_id category1 category2 ...\n",
        "with open(os.path.join(reuters_folder,\"cats.txt\") ) as f:\n",
        "    for i in range(5):\n",
        "        print(f.readline(),end=\"\")"
      ],
      "metadata": {
        "colab": {
          "base_uri": "https://localhost:8080/"
        },
        "id": "rdeXpfEIO-IC",
        "outputId": "cd287725-d9e9-4ee5-f070-156247563d0f"
      },
      "execution_count": 4,
      "outputs": [
        {
          "output_type": "stream",
          "name": "stdout",
          "text": [
            "test/14826 trade\n",
            "test/14828 grain\n",
            "test/14829 nat-gas crude\n",
            "test/14832 rubber tin sugar corn rice grain trade\n",
            "test/14833 palm-oil veg-oil\n"
          ]
        }
      ]
    },
    {
      "cell_type": "markdown",
      "source": [
        "### 2-PREPROCESS DATA"
      ],
      "metadata": {
        "id": "t3SA0UvZjT9k"
      }
    },
    {
      "cell_type": "markdown",
      "source": [
        "#### 2.1Read and parse **cats.txt** as dataframe "
      ],
      "metadata": {
        "id": "nphKaHefOhU9"
      }
    },
    {
      "cell_type": "code",
      "source": [
        "import pandas as pd\n",
        "df = pd.read_csv(os.path.join(reuters_folder,\"cats.txt\"),header=None,sep=\"/\")\n",
        "df.head()"
      ],
      "metadata": {
        "colab": {
          "base_uri": "https://localhost:8080/",
          "height": 206
        },
        "id": "0kWYZV3HQlWw",
        "outputId": "e0036192-db65-4253-85da-085e84fa7a0e"
      },
      "execution_count": 5,
      "outputs": [
        {
          "output_type": "execute_result",
          "data": {
            "text/plain": [
              "      0                                             1\n",
              "0  test                                   14826 trade\n",
              "1  test                                   14828 grain\n",
              "2  test                           14829 nat-gas crude\n",
              "3  test  14832 rubber tin sugar corn rice grain trade\n",
              "4  test                        14833 palm-oil veg-oil"
            ],
            "text/html": [
              "\n",
              "  <div id=\"df-341506b8-16bc-4c76-8c66-919c7e13b28a\">\n",
              "    <div class=\"colab-df-container\">\n",
              "      <div>\n",
              "<style scoped>\n",
              "    .dataframe tbody tr th:only-of-type {\n",
              "        vertical-align: middle;\n",
              "    }\n",
              "\n",
              "    .dataframe tbody tr th {\n",
              "        vertical-align: top;\n",
              "    }\n",
              "\n",
              "    .dataframe thead th {\n",
              "        text-align: right;\n",
              "    }\n",
              "</style>\n",
              "<table border=\"1\" class=\"dataframe\">\n",
              "  <thead>\n",
              "    <tr style=\"text-align: right;\">\n",
              "      <th></th>\n",
              "      <th>0</th>\n",
              "      <th>1</th>\n",
              "    </tr>\n",
              "  </thead>\n",
              "  <tbody>\n",
              "    <tr>\n",
              "      <th>0</th>\n",
              "      <td>test</td>\n",
              "      <td>14826 trade</td>\n",
              "    </tr>\n",
              "    <tr>\n",
              "      <th>1</th>\n",
              "      <td>test</td>\n",
              "      <td>14828 grain</td>\n",
              "    </tr>\n",
              "    <tr>\n",
              "      <th>2</th>\n",
              "      <td>test</td>\n",
              "      <td>14829 nat-gas crude</td>\n",
              "    </tr>\n",
              "    <tr>\n",
              "      <th>3</th>\n",
              "      <td>test</td>\n",
              "      <td>14832 rubber tin sugar corn rice grain trade</td>\n",
              "    </tr>\n",
              "    <tr>\n",
              "      <th>4</th>\n",
              "      <td>test</td>\n",
              "      <td>14833 palm-oil veg-oil</td>\n",
              "    </tr>\n",
              "  </tbody>\n",
              "</table>\n",
              "</div>\n",
              "      <button class=\"colab-df-convert\" onclick=\"convertToInteractive('df-341506b8-16bc-4c76-8c66-919c7e13b28a')\"\n",
              "              title=\"Convert this dataframe to an interactive table.\"\n",
              "              style=\"display:none;\">\n",
              "        \n",
              "  <svg xmlns=\"http://www.w3.org/2000/svg\" height=\"24px\"viewBox=\"0 0 24 24\"\n",
              "       width=\"24px\">\n",
              "    <path d=\"M0 0h24v24H0V0z\" fill=\"none\"/>\n",
              "    <path d=\"M18.56 5.44l.94 2.06.94-2.06 2.06-.94-2.06-.94-.94-2.06-.94 2.06-2.06.94zm-11 1L8.5 8.5l.94-2.06 2.06-.94-2.06-.94L8.5 2.5l-.94 2.06-2.06.94zm10 10l.94 2.06.94-2.06 2.06-.94-2.06-.94-.94-2.06-.94 2.06-2.06.94z\"/><path d=\"M17.41 7.96l-1.37-1.37c-.4-.4-.92-.59-1.43-.59-.52 0-1.04.2-1.43.59L10.3 9.45l-7.72 7.72c-.78.78-.78 2.05 0 2.83L4 21.41c.39.39.9.59 1.41.59.51 0 1.02-.2 1.41-.59l7.78-7.78 2.81-2.81c.8-.78.8-2.07 0-2.86zM5.41 20L4 18.59l7.72-7.72 1.47 1.35L5.41 20z\"/>\n",
              "  </svg>\n",
              "      </button>\n",
              "      \n",
              "  <style>\n",
              "    .colab-df-container {\n",
              "      display:flex;\n",
              "      flex-wrap:wrap;\n",
              "      gap: 12px;\n",
              "    }\n",
              "\n",
              "    .colab-df-convert {\n",
              "      background-color: #E8F0FE;\n",
              "      border: none;\n",
              "      border-radius: 50%;\n",
              "      cursor: pointer;\n",
              "      display: none;\n",
              "      fill: #1967D2;\n",
              "      height: 32px;\n",
              "      padding: 0 0 0 0;\n",
              "      width: 32px;\n",
              "    }\n",
              "\n",
              "    .colab-df-convert:hover {\n",
              "      background-color: #E2EBFA;\n",
              "      box-shadow: 0px 1px 2px rgba(60, 64, 67, 0.3), 0px 1px 3px 1px rgba(60, 64, 67, 0.15);\n",
              "      fill: #174EA6;\n",
              "    }\n",
              "\n",
              "    [theme=dark] .colab-df-convert {\n",
              "      background-color: #3B4455;\n",
              "      fill: #D2E3FC;\n",
              "    }\n",
              "\n",
              "    [theme=dark] .colab-df-convert:hover {\n",
              "      background-color: #434B5C;\n",
              "      box-shadow: 0px 1px 3px 1px rgba(0, 0, 0, 0.15);\n",
              "      filter: drop-shadow(0px 1px 2px rgba(0, 0, 0, 0.3));\n",
              "      fill: #FFFFFF;\n",
              "    }\n",
              "  </style>\n",
              "\n",
              "      <script>\n",
              "        const buttonEl =\n",
              "          document.querySelector('#df-341506b8-16bc-4c76-8c66-919c7e13b28a button.colab-df-convert');\n",
              "        buttonEl.style.display =\n",
              "          google.colab.kernel.accessAllowed ? 'block' : 'none';\n",
              "\n",
              "        async function convertToInteractive(key) {\n",
              "          const element = document.querySelector('#df-341506b8-16bc-4c76-8c66-919c7e13b28a');\n",
              "          const dataTable =\n",
              "            await google.colab.kernel.invokeFunction('convertToInteractive',\n",
              "                                                     [key], {});\n",
              "          if (!dataTable) return;\n",
              "\n",
              "          const docLinkHtml = 'Like what you see? Visit the ' +\n",
              "            '<a target=\"_blank\" href=https://colab.research.google.com/notebooks/data_table.ipynb>data table notebook</a>'\n",
              "            + ' to learn more about interactive tables.';\n",
              "          element.innerHTML = '';\n",
              "          dataTable['output_type'] = 'display_data';\n",
              "          await google.colab.output.renderOutput(dataTable, element);\n",
              "          const docLink = document.createElement('div');\n",
              "          docLink.innerHTML = docLinkHtml;\n",
              "          element.appendChild(docLink);\n",
              "        }\n",
              "      </script>\n",
              "    </div>\n",
              "  </div>\n",
              "  "
            ]
          },
          "metadata": {},
          "execution_count": 5
        }
      ]
    },
    {
      "cell_type": "code",
      "source": [
        "# Split file_id and categories, rename  columns\n",
        "df[\"file_id\"] = df[1].apply(lambda x: x.strip().split()[0] )\n",
        "df[\"categories\"] = df[1].apply(lambda x: x.strip().split()[1:])\n",
        "df.drop(1,axis=1,inplace=True)\n",
        "df.head()"
      ],
      "metadata": {
        "colab": {
          "base_uri": "https://localhost:8080/",
          "height": 206
        },
        "id": "QpxJyBDtQ7cC",
        "outputId": "61a20050-cd71-41dc-ebdd-23da7644ec7f"
      },
      "execution_count": 6,
      "outputs": [
        {
          "output_type": "execute_result",
          "data": {
            "text/plain": [
              "      0 file_id                                      categories\n",
              "0  test   14826                                         [trade]\n",
              "1  test   14828                                         [grain]\n",
              "2  test   14829                                [nat-gas, crude]\n",
              "3  test   14832  [rubber, tin, sugar, corn, rice, grain, trade]\n",
              "4  test   14833                             [palm-oil, veg-oil]"
            ],
            "text/html": [
              "\n",
              "  <div id=\"df-46f9880d-9a7b-4a65-ad10-f5f77c4f0a06\">\n",
              "    <div class=\"colab-df-container\">\n",
              "      <div>\n",
              "<style scoped>\n",
              "    .dataframe tbody tr th:only-of-type {\n",
              "        vertical-align: middle;\n",
              "    }\n",
              "\n",
              "    .dataframe tbody tr th {\n",
              "        vertical-align: top;\n",
              "    }\n",
              "\n",
              "    .dataframe thead th {\n",
              "        text-align: right;\n",
              "    }\n",
              "</style>\n",
              "<table border=\"1\" class=\"dataframe\">\n",
              "  <thead>\n",
              "    <tr style=\"text-align: right;\">\n",
              "      <th></th>\n",
              "      <th>0</th>\n",
              "      <th>file_id</th>\n",
              "      <th>categories</th>\n",
              "    </tr>\n",
              "  </thead>\n",
              "  <tbody>\n",
              "    <tr>\n",
              "      <th>0</th>\n",
              "      <td>test</td>\n",
              "      <td>14826</td>\n",
              "      <td>[trade]</td>\n",
              "    </tr>\n",
              "    <tr>\n",
              "      <th>1</th>\n",
              "      <td>test</td>\n",
              "      <td>14828</td>\n",
              "      <td>[grain]</td>\n",
              "    </tr>\n",
              "    <tr>\n",
              "      <th>2</th>\n",
              "      <td>test</td>\n",
              "      <td>14829</td>\n",
              "      <td>[nat-gas, crude]</td>\n",
              "    </tr>\n",
              "    <tr>\n",
              "      <th>3</th>\n",
              "      <td>test</td>\n",
              "      <td>14832</td>\n",
              "      <td>[rubber, tin, sugar, corn, rice, grain, trade]</td>\n",
              "    </tr>\n",
              "    <tr>\n",
              "      <th>4</th>\n",
              "      <td>test</td>\n",
              "      <td>14833</td>\n",
              "      <td>[palm-oil, veg-oil]</td>\n",
              "    </tr>\n",
              "  </tbody>\n",
              "</table>\n",
              "</div>\n",
              "      <button class=\"colab-df-convert\" onclick=\"convertToInteractive('df-46f9880d-9a7b-4a65-ad10-f5f77c4f0a06')\"\n",
              "              title=\"Convert this dataframe to an interactive table.\"\n",
              "              style=\"display:none;\">\n",
              "        \n",
              "  <svg xmlns=\"http://www.w3.org/2000/svg\" height=\"24px\"viewBox=\"0 0 24 24\"\n",
              "       width=\"24px\">\n",
              "    <path d=\"M0 0h24v24H0V0z\" fill=\"none\"/>\n",
              "    <path d=\"M18.56 5.44l.94 2.06.94-2.06 2.06-.94-2.06-.94-.94-2.06-.94 2.06-2.06.94zm-11 1L8.5 8.5l.94-2.06 2.06-.94-2.06-.94L8.5 2.5l-.94 2.06-2.06.94zm10 10l.94 2.06.94-2.06 2.06-.94-2.06-.94-.94-2.06-.94 2.06-2.06.94z\"/><path d=\"M17.41 7.96l-1.37-1.37c-.4-.4-.92-.59-1.43-.59-.52 0-1.04.2-1.43.59L10.3 9.45l-7.72 7.72c-.78.78-.78 2.05 0 2.83L4 21.41c.39.39.9.59 1.41.59.51 0 1.02-.2 1.41-.59l7.78-7.78 2.81-2.81c.8-.78.8-2.07 0-2.86zM5.41 20L4 18.59l7.72-7.72 1.47 1.35L5.41 20z\"/>\n",
              "  </svg>\n",
              "      </button>\n",
              "      \n",
              "  <style>\n",
              "    .colab-df-container {\n",
              "      display:flex;\n",
              "      flex-wrap:wrap;\n",
              "      gap: 12px;\n",
              "    }\n",
              "\n",
              "    .colab-df-convert {\n",
              "      background-color: #E8F0FE;\n",
              "      border: none;\n",
              "      border-radius: 50%;\n",
              "      cursor: pointer;\n",
              "      display: none;\n",
              "      fill: #1967D2;\n",
              "      height: 32px;\n",
              "      padding: 0 0 0 0;\n",
              "      width: 32px;\n",
              "    }\n",
              "\n",
              "    .colab-df-convert:hover {\n",
              "      background-color: #E2EBFA;\n",
              "      box-shadow: 0px 1px 2px rgba(60, 64, 67, 0.3), 0px 1px 3px 1px rgba(60, 64, 67, 0.15);\n",
              "      fill: #174EA6;\n",
              "    }\n",
              "\n",
              "    [theme=dark] .colab-df-convert {\n",
              "      background-color: #3B4455;\n",
              "      fill: #D2E3FC;\n",
              "    }\n",
              "\n",
              "    [theme=dark] .colab-df-convert:hover {\n",
              "      background-color: #434B5C;\n",
              "      box-shadow: 0px 1px 3px 1px rgba(0, 0, 0, 0.15);\n",
              "      filter: drop-shadow(0px 1px 2px rgba(0, 0, 0, 0.3));\n",
              "      fill: #FFFFFF;\n",
              "    }\n",
              "  </style>\n",
              "\n",
              "      <script>\n",
              "        const buttonEl =\n",
              "          document.querySelector('#df-46f9880d-9a7b-4a65-ad10-f5f77c4f0a06 button.colab-df-convert');\n",
              "        buttonEl.style.display =\n",
              "          google.colab.kernel.accessAllowed ? 'block' : 'none';\n",
              "\n",
              "        async function convertToInteractive(key) {\n",
              "          const element = document.querySelector('#df-46f9880d-9a7b-4a65-ad10-f5f77c4f0a06');\n",
              "          const dataTable =\n",
              "            await google.colab.kernel.invokeFunction('convertToInteractive',\n",
              "                                                     [key], {});\n",
              "          if (!dataTable) return;\n",
              "\n",
              "          const docLinkHtml = 'Like what you see? Visit the ' +\n",
              "            '<a target=\"_blank\" href=https://colab.research.google.com/notebooks/data_table.ipynb>data table notebook</a>'\n",
              "            + ' to learn more about interactive tables.';\n",
              "          element.innerHTML = '';\n",
              "          dataTable['output_type'] = 'display_data';\n",
              "          await google.colab.output.renderOutput(dataTable, element);\n",
              "          const docLink = document.createElement('div');\n",
              "          docLink.innerHTML = docLinkHtml;\n",
              "          element.appendChild(docLink);\n",
              "        }\n",
              "      </script>\n",
              "    </div>\n",
              "  </div>\n",
              "  "
            ]
          },
          "metadata": {},
          "execution_count": 6
        }
      ]
    },
    {
      "cell_type": "code",
      "source": [
        "\n",
        "df.rename(columns={0: \"label_type\"},inplace = True)\n",
        "df.head()\n"
      ],
      "metadata": {
        "colab": {
          "base_uri": "https://localhost:8080/",
          "height": 206
        },
        "id": "WlOzQJhjRAtd",
        "outputId": "b13cd1cb-3a41-422b-c324-5ef76d24cc80"
      },
      "execution_count": 7,
      "outputs": [
        {
          "output_type": "execute_result",
          "data": {
            "text/plain": [
              "  label_type file_id                                      categories\n",
              "0       test   14826                                         [trade]\n",
              "1       test   14828                                         [grain]\n",
              "2       test   14829                                [nat-gas, crude]\n",
              "3       test   14832  [rubber, tin, sugar, corn, rice, grain, trade]\n",
              "4       test   14833                             [palm-oil, veg-oil]"
            ],
            "text/html": [
              "\n",
              "  <div id=\"df-1efb5556-88bb-4594-808e-bd542f25fe29\">\n",
              "    <div class=\"colab-df-container\">\n",
              "      <div>\n",
              "<style scoped>\n",
              "    .dataframe tbody tr th:only-of-type {\n",
              "        vertical-align: middle;\n",
              "    }\n",
              "\n",
              "    .dataframe tbody tr th {\n",
              "        vertical-align: top;\n",
              "    }\n",
              "\n",
              "    .dataframe thead th {\n",
              "        text-align: right;\n",
              "    }\n",
              "</style>\n",
              "<table border=\"1\" class=\"dataframe\">\n",
              "  <thead>\n",
              "    <tr style=\"text-align: right;\">\n",
              "      <th></th>\n",
              "      <th>label_type</th>\n",
              "      <th>file_id</th>\n",
              "      <th>categories</th>\n",
              "    </tr>\n",
              "  </thead>\n",
              "  <tbody>\n",
              "    <tr>\n",
              "      <th>0</th>\n",
              "      <td>test</td>\n",
              "      <td>14826</td>\n",
              "      <td>[trade]</td>\n",
              "    </tr>\n",
              "    <tr>\n",
              "      <th>1</th>\n",
              "      <td>test</td>\n",
              "      <td>14828</td>\n",
              "      <td>[grain]</td>\n",
              "    </tr>\n",
              "    <tr>\n",
              "      <th>2</th>\n",
              "      <td>test</td>\n",
              "      <td>14829</td>\n",
              "      <td>[nat-gas, crude]</td>\n",
              "    </tr>\n",
              "    <tr>\n",
              "      <th>3</th>\n",
              "      <td>test</td>\n",
              "      <td>14832</td>\n",
              "      <td>[rubber, tin, sugar, corn, rice, grain, trade]</td>\n",
              "    </tr>\n",
              "    <tr>\n",
              "      <th>4</th>\n",
              "      <td>test</td>\n",
              "      <td>14833</td>\n",
              "      <td>[palm-oil, veg-oil]</td>\n",
              "    </tr>\n",
              "  </tbody>\n",
              "</table>\n",
              "</div>\n",
              "      <button class=\"colab-df-convert\" onclick=\"convertToInteractive('df-1efb5556-88bb-4594-808e-bd542f25fe29')\"\n",
              "              title=\"Convert this dataframe to an interactive table.\"\n",
              "              style=\"display:none;\">\n",
              "        \n",
              "  <svg xmlns=\"http://www.w3.org/2000/svg\" height=\"24px\"viewBox=\"0 0 24 24\"\n",
              "       width=\"24px\">\n",
              "    <path d=\"M0 0h24v24H0V0z\" fill=\"none\"/>\n",
              "    <path d=\"M18.56 5.44l.94 2.06.94-2.06 2.06-.94-2.06-.94-.94-2.06-.94 2.06-2.06.94zm-11 1L8.5 8.5l.94-2.06 2.06-.94-2.06-.94L8.5 2.5l-.94 2.06-2.06.94zm10 10l.94 2.06.94-2.06 2.06-.94-2.06-.94-.94-2.06-.94 2.06-2.06.94z\"/><path d=\"M17.41 7.96l-1.37-1.37c-.4-.4-.92-.59-1.43-.59-.52 0-1.04.2-1.43.59L10.3 9.45l-7.72 7.72c-.78.78-.78 2.05 0 2.83L4 21.41c.39.39.9.59 1.41.59.51 0 1.02-.2 1.41-.59l7.78-7.78 2.81-2.81c.8-.78.8-2.07 0-2.86zM5.41 20L4 18.59l7.72-7.72 1.47 1.35L5.41 20z\"/>\n",
              "  </svg>\n",
              "      </button>\n",
              "      \n",
              "  <style>\n",
              "    .colab-df-container {\n",
              "      display:flex;\n",
              "      flex-wrap:wrap;\n",
              "      gap: 12px;\n",
              "    }\n",
              "\n",
              "    .colab-df-convert {\n",
              "      background-color: #E8F0FE;\n",
              "      border: none;\n",
              "      border-radius: 50%;\n",
              "      cursor: pointer;\n",
              "      display: none;\n",
              "      fill: #1967D2;\n",
              "      height: 32px;\n",
              "      padding: 0 0 0 0;\n",
              "      width: 32px;\n",
              "    }\n",
              "\n",
              "    .colab-df-convert:hover {\n",
              "      background-color: #E2EBFA;\n",
              "      box-shadow: 0px 1px 2px rgba(60, 64, 67, 0.3), 0px 1px 3px 1px rgba(60, 64, 67, 0.15);\n",
              "      fill: #174EA6;\n",
              "    }\n",
              "\n",
              "    [theme=dark] .colab-df-convert {\n",
              "      background-color: #3B4455;\n",
              "      fill: #D2E3FC;\n",
              "    }\n",
              "\n",
              "    [theme=dark] .colab-df-convert:hover {\n",
              "      background-color: #434B5C;\n",
              "      box-shadow: 0px 1px 3px 1px rgba(0, 0, 0, 0.15);\n",
              "      filter: drop-shadow(0px 1px 2px rgba(0, 0, 0, 0.3));\n",
              "      fill: #FFFFFF;\n",
              "    }\n",
              "  </style>\n",
              "\n",
              "      <script>\n",
              "        const buttonEl =\n",
              "          document.querySelector('#df-1efb5556-88bb-4594-808e-bd542f25fe29 button.colab-df-convert');\n",
              "        buttonEl.style.display =\n",
              "          google.colab.kernel.accessAllowed ? 'block' : 'none';\n",
              "\n",
              "        async function convertToInteractive(key) {\n",
              "          const element = document.querySelector('#df-1efb5556-88bb-4594-808e-bd542f25fe29');\n",
              "          const dataTable =\n",
              "            await google.colab.kernel.invokeFunction('convertToInteractive',\n",
              "                                                     [key], {});\n",
              "          if (!dataTable) return;\n",
              "\n",
              "          const docLinkHtml = 'Like what you see? Visit the ' +\n",
              "            '<a target=\"_blank\" href=https://colab.research.google.com/notebooks/data_table.ipynb>data table notebook</a>'\n",
              "            + ' to learn more about interactive tables.';\n",
              "          element.innerHTML = '';\n",
              "          dataTable['output_type'] = 'display_data';\n",
              "          await google.colab.output.renderOutput(dataTable, element);\n",
              "          const docLink = document.createElement('div');\n",
              "          docLink.innerHTML = docLinkHtml;\n",
              "          element.appendChild(docLink);\n",
              "        }\n",
              "      </script>\n",
              "    </div>\n",
              "  </div>\n",
              "  "
            ]
          },
          "metadata": {},
          "execution_count": 7
        }
      ]
    },
    {
      "cell_type": "code",
      "source": [
        "df.tail()"
      ],
      "metadata": {
        "colab": {
          "base_uri": "https://localhost:8080/",
          "height": 206
        },
        "id": "CMX5aKMBXg7b",
        "outputId": "e816863c-0a82-4091-f612-7e88eb27ba1d"
      },
      "execution_count": 8,
      "outputs": [
        {
          "output_type": "execute_result",
          "data": {
            "text/plain": [
              "      label_type file_id       categories\n",
              "10783   training   14779  [money-fx, dlr]\n",
              "10784   training   14783         [rubber]\n",
              "10785   training   14785       [money-fx]\n",
              "10786   training   14805         [copper]\n",
              "10787   training   14818           [ship]"
            ],
            "text/html": [
              "\n",
              "  <div id=\"df-b5680dfc-4fec-43f8-a756-37c2762ee0da\">\n",
              "    <div class=\"colab-df-container\">\n",
              "      <div>\n",
              "<style scoped>\n",
              "    .dataframe tbody tr th:only-of-type {\n",
              "        vertical-align: middle;\n",
              "    }\n",
              "\n",
              "    .dataframe tbody tr th {\n",
              "        vertical-align: top;\n",
              "    }\n",
              "\n",
              "    .dataframe thead th {\n",
              "        text-align: right;\n",
              "    }\n",
              "</style>\n",
              "<table border=\"1\" class=\"dataframe\">\n",
              "  <thead>\n",
              "    <tr style=\"text-align: right;\">\n",
              "      <th></th>\n",
              "      <th>label_type</th>\n",
              "      <th>file_id</th>\n",
              "      <th>categories</th>\n",
              "    </tr>\n",
              "  </thead>\n",
              "  <tbody>\n",
              "    <tr>\n",
              "      <th>10783</th>\n",
              "      <td>training</td>\n",
              "      <td>14779</td>\n",
              "      <td>[money-fx, dlr]</td>\n",
              "    </tr>\n",
              "    <tr>\n",
              "      <th>10784</th>\n",
              "      <td>training</td>\n",
              "      <td>14783</td>\n",
              "      <td>[rubber]</td>\n",
              "    </tr>\n",
              "    <tr>\n",
              "      <th>10785</th>\n",
              "      <td>training</td>\n",
              "      <td>14785</td>\n",
              "      <td>[money-fx]</td>\n",
              "    </tr>\n",
              "    <tr>\n",
              "      <th>10786</th>\n",
              "      <td>training</td>\n",
              "      <td>14805</td>\n",
              "      <td>[copper]</td>\n",
              "    </tr>\n",
              "    <tr>\n",
              "      <th>10787</th>\n",
              "      <td>training</td>\n",
              "      <td>14818</td>\n",
              "      <td>[ship]</td>\n",
              "    </tr>\n",
              "  </tbody>\n",
              "</table>\n",
              "</div>\n",
              "      <button class=\"colab-df-convert\" onclick=\"convertToInteractive('df-b5680dfc-4fec-43f8-a756-37c2762ee0da')\"\n",
              "              title=\"Convert this dataframe to an interactive table.\"\n",
              "              style=\"display:none;\">\n",
              "        \n",
              "  <svg xmlns=\"http://www.w3.org/2000/svg\" height=\"24px\"viewBox=\"0 0 24 24\"\n",
              "       width=\"24px\">\n",
              "    <path d=\"M0 0h24v24H0V0z\" fill=\"none\"/>\n",
              "    <path d=\"M18.56 5.44l.94 2.06.94-2.06 2.06-.94-2.06-.94-.94-2.06-.94 2.06-2.06.94zm-11 1L8.5 8.5l.94-2.06 2.06-.94-2.06-.94L8.5 2.5l-.94 2.06-2.06.94zm10 10l.94 2.06.94-2.06 2.06-.94-2.06-.94-.94-2.06-.94 2.06-2.06.94z\"/><path d=\"M17.41 7.96l-1.37-1.37c-.4-.4-.92-.59-1.43-.59-.52 0-1.04.2-1.43.59L10.3 9.45l-7.72 7.72c-.78.78-.78 2.05 0 2.83L4 21.41c.39.39.9.59 1.41.59.51 0 1.02-.2 1.41-.59l7.78-7.78 2.81-2.81c.8-.78.8-2.07 0-2.86zM5.41 20L4 18.59l7.72-7.72 1.47 1.35L5.41 20z\"/>\n",
              "  </svg>\n",
              "      </button>\n",
              "      \n",
              "  <style>\n",
              "    .colab-df-container {\n",
              "      display:flex;\n",
              "      flex-wrap:wrap;\n",
              "      gap: 12px;\n",
              "    }\n",
              "\n",
              "    .colab-df-convert {\n",
              "      background-color: #E8F0FE;\n",
              "      border: none;\n",
              "      border-radius: 50%;\n",
              "      cursor: pointer;\n",
              "      display: none;\n",
              "      fill: #1967D2;\n",
              "      height: 32px;\n",
              "      padding: 0 0 0 0;\n",
              "      width: 32px;\n",
              "    }\n",
              "\n",
              "    .colab-df-convert:hover {\n",
              "      background-color: #E2EBFA;\n",
              "      box-shadow: 0px 1px 2px rgba(60, 64, 67, 0.3), 0px 1px 3px 1px rgba(60, 64, 67, 0.15);\n",
              "      fill: #174EA6;\n",
              "    }\n",
              "\n",
              "    [theme=dark] .colab-df-convert {\n",
              "      background-color: #3B4455;\n",
              "      fill: #D2E3FC;\n",
              "    }\n",
              "\n",
              "    [theme=dark] .colab-df-convert:hover {\n",
              "      background-color: #434B5C;\n",
              "      box-shadow: 0px 1px 3px 1px rgba(0, 0, 0, 0.15);\n",
              "      filter: drop-shadow(0px 1px 2px rgba(0, 0, 0, 0.3));\n",
              "      fill: #FFFFFF;\n",
              "    }\n",
              "  </style>\n",
              "\n",
              "      <script>\n",
              "        const buttonEl =\n",
              "          document.querySelector('#df-b5680dfc-4fec-43f8-a756-37c2762ee0da button.colab-df-convert');\n",
              "        buttonEl.style.display =\n",
              "          google.colab.kernel.accessAllowed ? 'block' : 'none';\n",
              "\n",
              "        async function convertToInteractive(key) {\n",
              "          const element = document.querySelector('#df-b5680dfc-4fec-43f8-a756-37c2762ee0da');\n",
              "          const dataTable =\n",
              "            await google.colab.kernel.invokeFunction('convertToInteractive',\n",
              "                                                     [key], {});\n",
              "          if (!dataTable) return;\n",
              "\n",
              "          const docLinkHtml = 'Like what you see? Visit the ' +\n",
              "            '<a target=\"_blank\" href=https://colab.research.google.com/notebooks/data_table.ipynb>data table notebook</a>'\n",
              "            + ' to learn more about interactive tables.';\n",
              "          element.innerHTML = '';\n",
              "          dataTable['output_type'] = 'display_data';\n",
              "          await google.colab.output.renderOutput(dataTable, element);\n",
              "          const docLink = document.createElement('div');\n",
              "          docLink.innerHTML = docLinkHtml;\n",
              "          element.appendChild(docLink);\n",
              "        }\n",
              "      </script>\n",
              "    </div>\n",
              "  </div>\n",
              "  "
            ]
          },
          "metadata": {},
          "execution_count": 8
        }
      ]
    },
    {
      "cell_type": "code",
      "source": [
        "# Encode categories as integers\n",
        "#from sklearn.preprocessing import LabelEncoder\n",
        "#label_encoder = LabelEncoder()\n",
        "categories_set = set()\n",
        "for categories in df[\"categories\"]:\n",
        "  categories_set.update(categories)\n",
        "print(categories_set)\n",
        "print(\"Number of labels:\",len(categories_set))"
      ],
      "metadata": {
        "colab": {
          "base_uri": "https://localhost:8080/"
        },
        "id": "fcCs2otJX124",
        "outputId": "0d599887-f260-48aa-afc0-1feb4f78533c"
      },
      "execution_count": 9,
      "outputs": [
        {
          "output_type": "stream",
          "name": "stdout",
          "text": [
            "{'ipi', 'yen', 'heat', 'copra-cake', 'money-fx', 'coconut-oil', 'cpi', 'grain', 'cotton', 'earn', 'rye', 'nkr', 'cpu', 'housing', 'sunseed', 'lumber', 'jet', 'gold', 'livestock', 'rubber', 'income', 'strategic-metal', 'sorghum', 'acq', 'zinc', 'crude', 'tin', 'nat-gas', 'trade', 'meal-feed', 'castor-oil', 'rapeseed', 'money-supply', 'silver', 'dfl', 'alum', 'fuel', 'nickel', 'palm-oil', 'lin-oil', 'soybean', 'palladium', 'instal-debt', 'corn', 'copper', 'bop', 'nzdlr', 'sun-oil', 'wheat', 'dmk', 'jobs', 'naphtha', 'orange', 'groundnut', 'pet-chem', 'iron-steel', 'gas', 'hog', 'platinum', 'cocoa', 'sugar', 'coffee', 'cotton-oil', 'barley', 'ship', 'oilseed', 'l-cattle', 'gnp', 'palmkernel', 'rape-oil', 'interest', 'reserves', 'veg-oil', 'lei', 'potato', 'carcass', 'retail', 'sun-meal', 'dlr', 'groundnut-oil', 'tea', 'rand', 'soy-oil', 'oat', 'wpi', 'soy-meal', 'lead', 'propane', 'coconut', 'rice'}\n",
            "Number of labels: 90\n"
          ]
        }
      ]
    },
    {
      "cell_type": "markdown",
      "source": [
        "#### 2.2 Create a column for text files and read texts according to file_id column"
      ],
      "metadata": {
        "id": "8r5-r0djYEym"
      }
    },
    {
      "cell_type": "code",
      "source": [
        "def read_text(label_type,file_id):\n",
        "    file_path = os.path.join(reuters_folder,label_type,file_id)\n",
        "    with open(file_path,encoding=\"latin-1\") as f:\n",
        "        return f.read()\n",
        "df[\"text\"] = df.apply(lambda row: read_text(row[\"label_type\"],row[\"file_id\"]),axis=1 )\n",
        "df.head()\n"
      ],
      "metadata": {
        "colab": {
          "base_uri": "https://localhost:8080/",
          "height": 206
        },
        "id": "FWfcBstDqxnE",
        "outputId": "c3c82aae-2792-49ee-a0f2-9db467e17f47"
      },
      "execution_count": 10,
      "outputs": [
        {
          "output_type": "execute_result",
          "data": {
            "text/plain": [
              "  label_type file_id                                      categories  \\\n",
              "0       test   14826                                         [trade]   \n",
              "1       test   14828                                         [grain]   \n",
              "2       test   14829                                [nat-gas, crude]   \n",
              "3       test   14832  [rubber, tin, sugar, corn, rice, grain, trade]   \n",
              "4       test   14833                             [palm-oil, veg-oil]   \n",
              "\n",
              "                                                text  \n",
              "0  ASIAN EXPORTERS FEAR DAMAGE FROM U.S.-JAPAN RI...  \n",
              "1  CHINA DAILY SAYS VERMIN EAT 7-12 PCT GRAIN STO...  \n",
              "2  JAPAN TO REVISE LONG-TERM ENERGY DEMAND DOWNWA...  \n",
              "3  THAI TRADE DEFICIT WIDENS IN FIRST QUARTER\\n  ...  \n",
              "4  INDONESIA SEES CPO PRICE RISING SHARPLY\\n  Ind...  "
            ],
            "text/html": [
              "\n",
              "  <div id=\"df-95522aad-8a15-4623-8e4f-97b43f1b9e2b\">\n",
              "    <div class=\"colab-df-container\">\n",
              "      <div>\n",
              "<style scoped>\n",
              "    .dataframe tbody tr th:only-of-type {\n",
              "        vertical-align: middle;\n",
              "    }\n",
              "\n",
              "    .dataframe tbody tr th {\n",
              "        vertical-align: top;\n",
              "    }\n",
              "\n",
              "    .dataframe thead th {\n",
              "        text-align: right;\n",
              "    }\n",
              "</style>\n",
              "<table border=\"1\" class=\"dataframe\">\n",
              "  <thead>\n",
              "    <tr style=\"text-align: right;\">\n",
              "      <th></th>\n",
              "      <th>label_type</th>\n",
              "      <th>file_id</th>\n",
              "      <th>categories</th>\n",
              "      <th>text</th>\n",
              "    </tr>\n",
              "  </thead>\n",
              "  <tbody>\n",
              "    <tr>\n",
              "      <th>0</th>\n",
              "      <td>test</td>\n",
              "      <td>14826</td>\n",
              "      <td>[trade]</td>\n",
              "      <td>ASIAN EXPORTERS FEAR DAMAGE FROM U.S.-JAPAN RI...</td>\n",
              "    </tr>\n",
              "    <tr>\n",
              "      <th>1</th>\n",
              "      <td>test</td>\n",
              "      <td>14828</td>\n",
              "      <td>[grain]</td>\n",
              "      <td>CHINA DAILY SAYS VERMIN EAT 7-12 PCT GRAIN STO...</td>\n",
              "    </tr>\n",
              "    <tr>\n",
              "      <th>2</th>\n",
              "      <td>test</td>\n",
              "      <td>14829</td>\n",
              "      <td>[nat-gas, crude]</td>\n",
              "      <td>JAPAN TO REVISE LONG-TERM ENERGY DEMAND DOWNWA...</td>\n",
              "    </tr>\n",
              "    <tr>\n",
              "      <th>3</th>\n",
              "      <td>test</td>\n",
              "      <td>14832</td>\n",
              "      <td>[rubber, tin, sugar, corn, rice, grain, trade]</td>\n",
              "      <td>THAI TRADE DEFICIT WIDENS IN FIRST QUARTER\\n  ...</td>\n",
              "    </tr>\n",
              "    <tr>\n",
              "      <th>4</th>\n",
              "      <td>test</td>\n",
              "      <td>14833</td>\n",
              "      <td>[palm-oil, veg-oil]</td>\n",
              "      <td>INDONESIA SEES CPO PRICE RISING SHARPLY\\n  Ind...</td>\n",
              "    </tr>\n",
              "  </tbody>\n",
              "</table>\n",
              "</div>\n",
              "      <button class=\"colab-df-convert\" onclick=\"convertToInteractive('df-95522aad-8a15-4623-8e4f-97b43f1b9e2b')\"\n",
              "              title=\"Convert this dataframe to an interactive table.\"\n",
              "              style=\"display:none;\">\n",
              "        \n",
              "  <svg xmlns=\"http://www.w3.org/2000/svg\" height=\"24px\"viewBox=\"0 0 24 24\"\n",
              "       width=\"24px\">\n",
              "    <path d=\"M0 0h24v24H0V0z\" fill=\"none\"/>\n",
              "    <path d=\"M18.56 5.44l.94 2.06.94-2.06 2.06-.94-2.06-.94-.94-2.06-.94 2.06-2.06.94zm-11 1L8.5 8.5l.94-2.06 2.06-.94-2.06-.94L8.5 2.5l-.94 2.06-2.06.94zm10 10l.94 2.06.94-2.06 2.06-.94-2.06-.94-.94-2.06-.94 2.06-2.06.94z\"/><path d=\"M17.41 7.96l-1.37-1.37c-.4-.4-.92-.59-1.43-.59-.52 0-1.04.2-1.43.59L10.3 9.45l-7.72 7.72c-.78.78-.78 2.05 0 2.83L4 21.41c.39.39.9.59 1.41.59.51 0 1.02-.2 1.41-.59l7.78-7.78 2.81-2.81c.8-.78.8-2.07 0-2.86zM5.41 20L4 18.59l7.72-7.72 1.47 1.35L5.41 20z\"/>\n",
              "  </svg>\n",
              "      </button>\n",
              "      \n",
              "  <style>\n",
              "    .colab-df-container {\n",
              "      display:flex;\n",
              "      flex-wrap:wrap;\n",
              "      gap: 12px;\n",
              "    }\n",
              "\n",
              "    .colab-df-convert {\n",
              "      background-color: #E8F0FE;\n",
              "      border: none;\n",
              "      border-radius: 50%;\n",
              "      cursor: pointer;\n",
              "      display: none;\n",
              "      fill: #1967D2;\n",
              "      height: 32px;\n",
              "      padding: 0 0 0 0;\n",
              "      width: 32px;\n",
              "    }\n",
              "\n",
              "    .colab-df-convert:hover {\n",
              "      background-color: #E2EBFA;\n",
              "      box-shadow: 0px 1px 2px rgba(60, 64, 67, 0.3), 0px 1px 3px 1px rgba(60, 64, 67, 0.15);\n",
              "      fill: #174EA6;\n",
              "    }\n",
              "\n",
              "    [theme=dark] .colab-df-convert {\n",
              "      background-color: #3B4455;\n",
              "      fill: #D2E3FC;\n",
              "    }\n",
              "\n",
              "    [theme=dark] .colab-df-convert:hover {\n",
              "      background-color: #434B5C;\n",
              "      box-shadow: 0px 1px 3px 1px rgba(0, 0, 0, 0.15);\n",
              "      filter: drop-shadow(0px 1px 2px rgba(0, 0, 0, 0.3));\n",
              "      fill: #FFFFFF;\n",
              "    }\n",
              "  </style>\n",
              "\n",
              "      <script>\n",
              "        const buttonEl =\n",
              "          document.querySelector('#df-95522aad-8a15-4623-8e4f-97b43f1b9e2b button.colab-df-convert');\n",
              "        buttonEl.style.display =\n",
              "          google.colab.kernel.accessAllowed ? 'block' : 'none';\n",
              "\n",
              "        async function convertToInteractive(key) {\n",
              "          const element = document.querySelector('#df-95522aad-8a15-4623-8e4f-97b43f1b9e2b');\n",
              "          const dataTable =\n",
              "            await google.colab.kernel.invokeFunction('convertToInteractive',\n",
              "                                                     [key], {});\n",
              "          if (!dataTable) return;\n",
              "\n",
              "          const docLinkHtml = 'Like what you see? Visit the ' +\n",
              "            '<a target=\"_blank\" href=https://colab.research.google.com/notebooks/data_table.ipynb>data table notebook</a>'\n",
              "            + ' to learn more about interactive tables.';\n",
              "          element.innerHTML = '';\n",
              "          dataTable['output_type'] = 'display_data';\n",
              "          await google.colab.output.renderOutput(dataTable, element);\n",
              "          const docLink = document.createElement('div');\n",
              "          docLink.innerHTML = docLinkHtml;\n",
              "          element.appendChild(docLink);\n",
              "        }\n",
              "      </script>\n",
              "    </div>\n",
              "  </div>\n",
              "  "
            ]
          },
          "metadata": {},
          "execution_count": 10
        }
      ]
    },
    {
      "cell_type": "markdown",
      "source": [
        "#### 2.3 Fit the count vectorizer to texts"
      ],
      "metadata": {
        "id": "UJ-Emcnaj9gc"
      }
    },
    {
      "cell_type": "code",
      "source": [
        "from sklearn.feature_extraction.text import CountVectorizer\n",
        "count_vectorizer = CountVectorizer()\n",
        "count_vectorizer.fit(df[\"text\"])"
      ],
      "metadata": {
        "colab": {
          "base_uri": "https://localhost:8080/"
        },
        "id": "fA0NXU4Z0FQp",
        "outputId": "ab24283e-80ce-4892-b7ab-03f80b7bbe3d"
      },
      "execution_count": 11,
      "outputs": [
        {
          "output_type": "execute_result",
          "data": {
            "text/plain": [
              "CountVectorizer()"
            ]
          },
          "metadata": {},
          "execution_count": 11
        }
      ]
    },
    {
      "cell_type": "code",
      "source": [
        "from sklearn.preprocessing import MultiLabelBinarizer\n",
        "binarizer = MultiLabelBinarizer()\n",
        "binarizer.fit(df[\"categories\"])\n",
        "binarizer.classes_"
      ],
      "metadata": {
        "colab": {
          "base_uri": "https://localhost:8080/"
        },
        "id": "3NaG5TB4_K-f",
        "outputId": "c47b6cea-fa01-4ca2-b099-a14b27735505"
      },
      "execution_count": 12,
      "outputs": [
        {
          "output_type": "execute_result",
          "data": {
            "text/plain": [
              "array(['acq', 'alum', 'barley', 'bop', 'carcass', 'castor-oil', 'cocoa',\n",
              "       'coconut', 'coconut-oil', 'coffee', 'copper', 'copra-cake', 'corn',\n",
              "       'cotton', 'cotton-oil', 'cpi', 'cpu', 'crude', 'dfl', 'dlr', 'dmk',\n",
              "       'earn', 'fuel', 'gas', 'gnp', 'gold', 'grain', 'groundnut',\n",
              "       'groundnut-oil', 'heat', 'hog', 'housing', 'income', 'instal-debt',\n",
              "       'interest', 'ipi', 'iron-steel', 'jet', 'jobs', 'l-cattle', 'lead',\n",
              "       'lei', 'lin-oil', 'livestock', 'lumber', 'meal-feed', 'money-fx',\n",
              "       'money-supply', 'naphtha', 'nat-gas', 'nickel', 'nkr', 'nzdlr',\n",
              "       'oat', 'oilseed', 'orange', 'palladium', 'palm-oil', 'palmkernel',\n",
              "       'pet-chem', 'platinum', 'potato', 'propane', 'rand', 'rape-oil',\n",
              "       'rapeseed', 'reserves', 'retail', 'rice', 'rubber', 'rye', 'ship',\n",
              "       'silver', 'sorghum', 'soy-meal', 'soy-oil', 'soybean',\n",
              "       'strategic-metal', 'sugar', 'sun-meal', 'sun-oil', 'sunseed',\n",
              "       'tea', 'tin', 'trade', 'veg-oil', 'wheat', 'wpi', 'yen', 'zinc'],\n",
              "      dtype=object)"
            ]
          },
          "metadata": {},
          "execution_count": 12
        }
      ]
    },
    {
      "cell_type": "markdown",
      "source": [
        "### 3. SPLIT DATA and CREATE DATA GENERATORS"
      ],
      "metadata": {
        "id": "OrDseihCkNau"
      }
    },
    {
      "cell_type": "code",
      "source": [
        "df_train = df[df[\"label_type\"]==\"training\"]\n",
        "df_test= df[df[\"label_type\"]==\"test\"]\n"
      ],
      "metadata": {
        "id": "3z0wyUnE4hgi"
      },
      "execution_count": 13,
      "outputs": []
    },
    {
      "cell_type": "code",
      "source": [
        "from sklearn.model_selection import train_test_split\n",
        "df_val, df_test = train_test_split(df_test, test_size=0.5)\n",
        "df_train.shape, df_test.shape, df_val.shape"
      ],
      "metadata": {
        "colab": {
          "base_uri": "https://localhost:8080/"
        },
        "id": "6oSU-KtbBhB8",
        "outputId": "a0c90762-0727-4c86-e863-fecc56030e7c"
      },
      "execution_count": 14,
      "outputs": [
        {
          "output_type": "execute_result",
          "data": {
            "text/plain": [
              "((7769, 4), (1510, 4), (1509, 4))"
            ]
          },
          "metadata": {},
          "execution_count": 14
        }
      ]
    },
    {
      "cell_type": "code",
      "source": [
        "import numpy as np\n",
        "def data_generator(df,  batch_size, steps_per_epoch,shuffle):\n",
        "    indices =list(range(steps_per_epoch ))\n",
        "    while True:\n",
        "       if shuffle:\n",
        "           np.random.shuffle(indices)\n",
        "       for step in range(steps_per_epoch):\n",
        "            start_batch = indices[step]\n",
        "            x= count_vectorizer.transform(df.iloc[start_batch*batch_size:(start_batch+1)*batch_size][\"text\"]).todense()  \n",
        "            y = binarizer.transform(df.iloc[start_batch*batch_size:(start_batch+1)*batch_size][\"categories\"].to_numpy())\n",
        "            yield x,y"
      ],
      "metadata": {
        "id": "BgiSPQQ4hvvH"
      },
      "execution_count": 17,
      "outputs": []
    },
    {
      "cell_type": "code",
      "source": [
        "NUM_EPOCHS=5\n",
        "BATCH_SIZE= 32\n",
        "STEPS_PER_EPOCH = len(df_train) // BATCH_SIZE\n",
        "VALIDATION_STEPS= len(df_val) // BATCH_SIZE\n",
        "STEPS = len(df_test)//BATCH_SIZE\n",
        "\n",
        "train_gen =data_generator(df_train, BATCH_SIZE, STEPS_PER_EPOCH, shuffle=True)\n",
        "val_gen =data_generator(df_val, BATCH_SIZE, VALIDATION_STEPS, shuffle = False)\n",
        "test_gen =data_generator(df_test, BATCH_SIZE, VALIDATION_STEPS, shuffle = False)"
      ],
      "metadata": {
        "id": "YdT6WDf9IWyj"
      },
      "execution_count": 18,
      "outputs": []
    },
    {
      "cell_type": "markdown",
      "source": [
        "### 4.CREATE, COMPILE and FIT MODEL"
      ],
      "metadata": {
        "id": "8mt3URZNke__"
      }
    },
    {
      "cell_type": "code",
      "source": [
        "import tensorflow as tf\n",
        "from tensorflow.keras import Sequential\n",
        "from tensorflow.keras.layers import Dense\n",
        "model = Sequential([Dense(64,activation=\"relu\"),\n",
        "                   Dense(64,activation=\"relu\"),\n",
        "                   Dense(len(categories_set)) ])\n",
        "\n",
        "model.compile(optimizer=tf.keras.optimizers.Adam(), loss = tf.keras.losses.BinaryCrossentropy(from_logits=True),metrics = [\"binary_accuracy\"])\n",
        "\n",
        "history = model.fit(train_gen, epochs= NUM_EPOCHS, steps_per_epoch =STEPS_PER_EPOCH,validation_data= val_gen,validation_steps =VALIDATION_STEPS, verbose=2  )"
      ],
      "metadata": {
        "id": "uHkjW5BvIKac",
        "colab": {
          "base_uri": "https://localhost:8080/"
        },
        "outputId": "b56924de-7dca-4bed-e4eb-29203c737097"
      },
      "execution_count": 19,
      "outputs": [
        {
          "output_type": "stream",
          "name": "stdout",
          "text": [
            "Epoch 1/5\n",
            "242/242 - 6s - loss: 0.1201 - binary_accuracy: 0.9868 - val_loss: 0.0364 - val_binary_accuracy: 0.9931 - 6s/epoch - 24ms/step\n",
            "Epoch 2/5\n",
            "242/242 - 5s - loss: 0.0224 - binary_accuracy: 0.9939 - val_loss: 0.0225 - val_binary_accuracy: 0.9946 - 5s/epoch - 21ms/step\n",
            "Epoch 3/5\n",
            "242/242 - 5s - loss: 0.0120 - binary_accuracy: 0.9960 - val_loss: 0.0186 - val_binary_accuracy: 0.9953 - 5s/epoch - 20ms/step\n",
            "Epoch 4/5\n",
            "242/242 - 5s - loss: 0.0072 - binary_accuracy: 0.9974 - val_loss: 0.0171 - val_binary_accuracy: 0.9957 - 5s/epoch - 20ms/step\n",
            "Epoch 5/5\n",
            "242/242 - 5s - loss: 0.0048 - binary_accuracy: 0.9982 - val_loss: 0.0186 - val_binary_accuracy: 0.9958 - 5s/epoch - 21ms/step\n"
          ]
        }
      ]
    },
    {
      "cell_type": "markdown",
      "source": [
        "### 5.EVALUATE and TEST WITH SAMPLE TEXT"
      ],
      "metadata": {
        "id": "iUcH8G3dkq4z"
      }
    },
    {
      "cell_type": "code",
      "source": [
        "#Evaluate the model using test_gen\n",
        "model.evaluate(test_gen,steps=STEPS)"
      ],
      "metadata": {
        "colab": {
          "base_uri": "https://localhost:8080/"
        },
        "id": "yVWcFSRtEDg3",
        "outputId": "852dfd83-d273-484c-e1c4-8a0e517d085a"
      },
      "execution_count": 21,
      "outputs": [
        {
          "output_type": "stream",
          "name": "stdout",
          "text": [
            "47/47 [==============================] - 1s 12ms/step - loss: 0.0235 - binary_accuracy: 0.9952\n"
          ]
        },
        {
          "output_type": "execute_result",
          "data": {
            "text/plain": [
              "[0.02354593388736248, 0.995161235332489]"
            ]
          },
          "metadata": {},
          "execution_count": 21
        }
      ]
    },
    {
      "cell_type": "code",
      "source": [
        "#Test with sample texts\n",
        "random_index= np.random.randint(len(df_test))\n",
        "x_sample_text= df_test.iloc[random_index:random_index+1][\"text\"]\n",
        "x_sample=count_vectorizer.transform(x_sample_text).todense()\n",
        "x_sample.shape"
      ],
      "metadata": {
        "colab": {
          "base_uri": "https://localhost:8080/"
        },
        "id": "UdiD0By3EdiW",
        "outputId": "ebb6035a-2de9-4c9e-954c-111b1dd935c9"
      },
      "execution_count": 74,
      "outputs": [
        {
          "output_type": "execute_result",
          "data": {
            "text/plain": [
              "(1, 30916)"
            ]
          },
          "metadata": {},
          "execution_count": 74
        }
      ]
    },
    {
      "cell_type": "code",
      "source": [
        "# Predict \n",
        "threshold = .5 # can be tuned according to confusion matrix\n",
        "y_predict = model(x_sample)\n",
        "y_predict = tf.keras.activations.sigmoid(y_predict)\n",
        "y_predict=tf.where(y_predict>threshold, 1,0)\n",
        "y_predict # tensor with shape (num_samples, num_categories)"
      ],
      "metadata": {
        "id": "U7rIN3ojEiKd",
        "colab": {
          "base_uri": "https://localhost:8080/"
        },
        "outputId": "3666991a-d60e-4252-8468-e3dcf95c39d4"
      },
      "execution_count": 75,
      "outputs": [
        {
          "output_type": "execute_result",
          "data": {
            "text/plain": [
              "<tf.Tensor: shape=(1, 90), dtype=int32, numpy=\n",
              "array([[0, 0, 0, 1, 0, 0, 0, 0, 0, 0, 0, 0, 0, 0, 0, 0, 0, 0, 0, 0, 0, 0,\n",
              "        0, 0, 0, 0, 0, 0, 0, 0, 0, 0, 0, 0, 0, 0, 0, 0, 0, 0, 0, 0, 0, 0,\n",
              "        0, 0, 0, 0, 0, 0, 0, 0, 0, 0, 0, 0, 0, 0, 0, 0, 0, 0, 0, 0, 0, 0,\n",
              "        0, 0, 0, 0, 0, 0, 0, 0, 0, 0, 0, 0, 0, 0, 0, 0, 0, 0, 1, 0, 0, 0,\n",
              "        0, 0]], dtype=int32)>"
            ]
          },
          "metadata": {},
          "execution_count": 75
        }
      ]
    },
    {
      "cell_type": "code",
      "source": [
        "# Convert indices to label names\n",
        "binarizer.inverse_transform(y_predict.numpy())"
      ],
      "metadata": {
        "colab": {
          "base_uri": "https://localhost:8080/"
        },
        "id": "vuCQRlQaGfSE",
        "outputId": "7171b90a-d94c-4690-cadb-4a845a599742"
      },
      "execution_count": 76,
      "outputs": [
        {
          "output_type": "execute_result",
          "data": {
            "text/plain": [
              "[('bop', 'trade')]"
            ]
          },
          "metadata": {},
          "execution_count": 76
        }
      ]
    },
    {
      "cell_type": "code",
      "source": [
        "#Check true label names\n",
        "df_test.iloc[random_index:random_index+1][\"categories\"]"
      ],
      "metadata": {
        "colab": {
          "base_uri": "https://localhost:8080/"
        },
        "id": "m0ExTLx4KcZp",
        "outputId": "30af6514-5043-4f61-8c56-6147f5bcb08b"
      },
      "execution_count": 78,
      "outputs": [
        {
          "output_type": "execute_result",
          "data": {
            "text/plain": [
              "2919    [trade, bop]\n",
              "Name: categories, dtype: object"
            ]
          },
          "metadata": {},
          "execution_count": 78
        }
      ]
    }
  ]
}